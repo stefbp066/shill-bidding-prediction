{
 "cells": [
  {
   "cell_type": "markdown",
   "id": "fc081df4",
   "metadata": {},
   "source": [
    "This notebook is purely for registering models."
   ]
  },
  {
   "cell_type": "code",
   "execution_count": 8,
   "id": "0806d2b7",
   "metadata": {},
   "outputs": [],
   "source": [
    "import mlflow\n",
    "from mlflow import MlflowClient\n",
    "from mlflow.exceptions import MlflowException"
   ]
  },
  {
   "cell_type": "code",
   "execution_count": 12,
   "id": "cce219fe",
   "metadata": {},
   "outputs": [
    {
     "data": {
      "text/plain": [
       "<Experiment: artifact_location='../mlruns/108907814007183194', creation_time=1753610310241, experiment_id='108907814007183194', last_update_time=1753610310241, lifecycle_stage='active', name='shill-bidding-prediction', tags={}>"
      ]
     },
     "execution_count": 12,
     "metadata": {},
     "output_type": "execute_result"
    }
   ],
   "source": [
    "# MLflow experiment parameters for this project\n",
    "EXPERIMENT_NAME = \"shill-bidding-prediction\"\n",
    "mlflow.set_tracking_uri(\"../mlruns\")\n",
    "mlflow.set_experiment(EXPERIMENT_NAME)"
   ]
  },
  {
   "cell_type": "code",
   "execution_count": 16,
   "id": "5131e76f",
   "metadata": {},
   "outputs": [
    {
     "name": "stderr",
     "output_type": "stream",
     "text": [
      "Registered model 'ShillBiddingModel' already exists. Creating a new version of this model...\n",
      "2025/07/27 12:12:58 WARNING mlflow.tracking._model_registry.fluent: Run with id bc9c87020cdf425b9eb6f8308f106d83 has no artifacts at artifact path 'lightgbm_model', registering model based on models:/m-78bd29d4a14a4fa7bd51033735aad7d3 instead\n",
      "Created version '1' of model 'ShillBiddingModel'.\n"
     ]
    }
   ],
   "source": [
    "import mlflow\n",
    "\n",
    "run_id = \"bc9c87020cdf425b9eb6f8308f106d83\"\n",
    "model_uri = f\"runs:/{run_id}/lightgbm_model\"\n",
    "\n",
    "result = mlflow.register_model(\n",
    "    model_uri=model_uri,\n",
    "    name=\"ShillBiddingModel\"  # Choose a registry name\n",
    ")"
   ]
  }
 ],
 "metadata": {
  "kernelspec": {
   "display_name": "mlops-env",
   "language": "python",
   "name": "python3"
  },
  "language_info": {
   "codemirror_mode": {
    "name": "ipython",
    "version": 3
   },
   "file_extension": ".py",
   "mimetype": "text/x-python",
   "name": "python",
   "nbconvert_exporter": "python",
   "pygments_lexer": "ipython3",
   "version": "3.9.7"
  }
 },
 "nbformat": 4,
 "nbformat_minor": 5
}
